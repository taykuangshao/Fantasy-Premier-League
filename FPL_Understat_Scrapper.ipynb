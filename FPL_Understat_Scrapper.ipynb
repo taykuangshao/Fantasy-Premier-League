{
 "cells": [
  {
   "cell_type": "markdown",
   "metadata": {
    "colab_type": "text",
    "id": "view-in-github"
   },
   "source": [
    "<a href=\"https://colab.research.google.com/github/taykuangshao/Fantasy-Premier-League/blob/master/FPL_Understat_Scrapper.ipynb\" target=\"_parent\"><img src=\"https://colab.research.google.com/assets/colab-badge.svg\" alt=\"Open In Colab\"/></a>"
   ]
  },
  {
   "cell_type": "code",
   "execution_count": 0,
   "metadata": {
    "colab": {},
    "colab_type": "code",
    "id": "zEqg-TmZqvYa"
   },
   "outputs": [],
   "source": [
    "from bs4 import BeautifulSoup as BS\n",
    "import requests\n",
    "import pandas as pd"
   ]
  },
  {
   "cell_type": "code",
   "execution_count": 0,
   "metadata": {
    "colab": {},
    "colab_type": "code",
    "id": "0klaUlj9q7BT"
   },
   "outputs": [],
   "source": [
    "url = \"https://understat.com/player/618\""
   ]
  },
  {
   "cell_type": "code",
   "execution_count": 0,
   "metadata": {
    "colab": {},
    "colab_type": "code",
    "id": "KdMPDMrwq8fk"
   },
   "outputs": [],
   "source": [
    "try:\n",
    "    response = requests.get(url)\n",
    "except requests.exceptions.RequestException as e:\n",
    "    print(e)\n",
    "    exit()"
   ]
  },
  {
   "cell_type": "code",
   "execution_count": 0,
   "metadata": {
    "colab": {},
    "colab_type": "code",
    "id": "UGDL-eQDq_94"
   },
   "outputs": [],
   "source": [
    "soup = BS(response.text, \"html.parser\")\n"
   ]
  },
  {
   "cell_type": "code",
   "execution_count": 0,
   "metadata": {
    "colab": {},
    "colab_type": "code",
    "id": "mKECB_ZWskr8"
   },
   "outputs": [],
   "source": [
    "soup.prettify"
   ]
  },
  {
   "cell_type": "code",
   "execution_count": 0,
   "metadata": {
    "colab": {},
    "colab_type": "code",
    "id": "9QuZ-mQ3wsAJ"
   },
   "outputs": [],
   "source": [
    "player_list = soup.find_all(\"script\")"
   ]
  },
  {
   "cell_type": "code",
   "execution_count": 0,
   "metadata": {
    "colab": {},
    "colab_type": "code",
    "id": "NzP1bxO6w-dG"
   },
   "outputs": [],
   "source": [
    "test1 = player_list[1].contents\n",
    "test2 = player_list[2].contents"
   ]
  },
  {
   "cell_type": "code",
   "execution_count": 0,
   "metadata": {
    "colab": {},
    "colab_type": "code",
    "id": "FSNHtxeVFyDS"
   },
   "outputs": [],
   "source": [
    "replace_characters = [\"x22\",\"x7B\",\"x3A\",\"x5B\",\"x20\",\"\\\\\",\"x7D\"]\n",
    "for char in replace_characters:\n",
    "  test1 = [w.replace(char, \"/\") for w in test1]\n",
    "for i in range(0,10):\n",
    "  test1 = [w.replace(\"//\", \"/\") for w in test1] \n",
    "test1 = test1[0].split(\"(\")[1]\n",
    "test1 = test1.split(\")\")[0]\n",
    "\n",
    "for char in replace_characters:\n",
    "  test2 = [w.replace(char, \"/\") for w in test2]\n",
    "for i in range(0,10):\n",
    "  test2 = [w.replace(\"//\", \"/\") for w in test2] \n",
    "test2 = test2[0].split(\"(\")[1]\n",
    "test2 = test2.split(\")\")[0]"
   ]
  },
  {
   "cell_type": "code",
   "execution_count": 0,
   "metadata": {
    "colab": {},
    "colab_type": "code",
    "id": "itO9FSvtMlps"
   },
   "outputs": [],
   "source": [
    "test2"
   ]
  }
 ],
 "metadata": {
  "colab": {
   "collapsed_sections": [],
   "include_colab_link": true,
   "name": "FPL_Understat_Scrapper",
   "provenance": [],
   "version": "0.3.2"
  },
  "kernelspec": {
   "display_name": "Python 3",
   "language": "python",
   "name": "python3"
  },
  "language_info": {
   "codemirror_mode": {
    "name": "ipython",
    "version": 3
   },
   "file_extension": ".py",
   "mimetype": "text/x-python",
   "name": "python",
   "nbconvert_exporter": "python",
   "pygments_lexer": "ipython3",
   "version": "3.7.1"
  }
 },
 "nbformat": 4,
 "nbformat_minor": 1
}
