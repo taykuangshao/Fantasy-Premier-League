{
  "nbformat": 4,
  "nbformat_minor": 0,
  "metadata": {
    "colab": {
      "name": "FPL_Understat_Scrapper",
      "version": "0.3.2",
      "provenance": [],
      "collapsed_sections": [],
      "include_colab_link": true
    },
    "kernelspec": {
      "name": "python3",
      "display_name": "Python 3"
    }
  },
  "cells": [
    {
      "cell_type": "markdown",
      "metadata": {
        "id": "view-in-github",
        "colab_type": "text"
      },
      "source": [
        "<a href=\"https://colab.research.google.com/github/taykuangshao/Fantasy-Premier-League/blob/master/FPL_Understat_Scrapper.ipynb\" target=\"_parent\"><img src=\"https://colab.research.google.com/assets/colab-badge.svg\" alt=\"Open In Colab\"/></a>"
      ]
    },
    {
      "cell_type": "code",
      "metadata": {
        "id": "zEqg-TmZqvYa",
        "colab_type": "code",
        "colab": {}
      },
      "source": [
        "from bs4 import BeautifulSoup as BS\n",
        "import requests\n",
        "import pandas as pd"
      ],
      "execution_count": 0,
      "outputs": []
    },
    {
      "cell_type": "code",
      "metadata": {
        "id": "0klaUlj9q7BT",
        "colab_type": "code",
        "colab": {}
      },
      "source": [
        "url = \"https://understat.com/player/618\""
      ],
      "execution_count": 0,
      "outputs": []
    },
    {
      "cell_type": "code",
      "metadata": {
        "id": "KdMPDMrwq8fk",
        "colab_type": "code",
        "colab": {}
      },
      "source": [
        "try:\n",
        "    response = requests.get(url)\n",
        "except requests.exceptions.RequestException as e:\n",
        "    print(e)\n",
        "    exit()"
      ],
      "execution_count": 0,
      "outputs": []
    },
    {
      "cell_type": "code",
      "metadata": {
        "id": "UGDL-eQDq_94",
        "colab_type": "code",
        "colab": {}
      },
      "source": [
        "soup = BS(response.text, \"html.parser\")\n"
      ],
      "execution_count": 0,
      "outputs": []
    },
    {
      "cell_type": "code",
      "metadata": {
        "id": "mKECB_ZWskr8",
        "colab_type": "code",
        "colab": {}
      },
      "source": [
        "soup.prettify"
      ],
      "execution_count": 0,
      "outputs": []
    },
    {
      "cell_type": "code",
      "metadata": {
        "id": "9QuZ-mQ3wsAJ",
        "colab_type": "code",
        "colab": {}
      },
      "source": [
        "player_list = soup.find_all(\"script\")"
      ],
      "execution_count": 0,
      "outputs": []
    },
    {
      "cell_type": "code",
      "metadata": {
        "id": "NzP1bxO6w-dG",
        "colab_type": "code",
        "colab": {}
      },
      "source": [
        "for ele in player_list:\n",
        "  print(ele.contents)"
      ],
      "execution_count": 0,
      "outputs": []
    }
  ]
}