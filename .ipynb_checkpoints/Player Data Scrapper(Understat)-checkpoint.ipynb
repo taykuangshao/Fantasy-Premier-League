{
 "cells": [
  {
   "cell_type": "code",
   "execution_count": 1,
   "metadata": {},
   "outputs": [],
   "source": [
    "from bs4 import BeautifulSoup as BS\n",
    "import requests\n",
    "import pandas as pd\n",
    "import json\n",
    "import re"
   ]
  },
  {
   "cell_type": "code",
   "execution_count": 2,
   "metadata": {},
   "outputs": [],
   "source": [
    "url = \"https://understat.com/league/EPL/2018\""
   ]
  },
  {
   "cell_type": "code",
   "execution_count": 3,
   "metadata": {},
   "outputs": [],
   "source": [
    "try:\n",
    "    response = requests.get(url)\n",
    "except requests.exceptions.RequestException as e:\n",
    "    print(e)\n",
    "    exit()"
   ]
  },
  {
   "cell_type": "code",
   "execution_count": 19,
   "metadata": {},
   "outputs": [],
   "source": [
    "response = requests.get('https://understat.com/league/EPL/2018')"
   ]
  },
  {
   "cell_type": "code",
   "execution_count": 27,
   "metadata": {},
   "outputs": [],
   "source": [
    "teamsData = re.search(\"teamsData\\s+=\\s+JSON.parse\\('([^']+)\", response.text)\n",
    "teamsString = bytes(teamsData.groups()[0], 'utf-8').decode('unicode_escape')\n",
    "teamsObj = json.loads(teamsString)\n",
    "\n",
    "teamlst = []\n",
    "for team in teamsObj:\n",
    "    teamData = teamsObj[team]\n",
    "    tempteam = {'id':teamData['id'],'title':teamData['title']}\n",
    "    for history in teamData['history']:\n",
    "        tempteam.update(history)\n",
    "    teamlst.append(tempteam)\n",
    "teams_df = pd.DataFrame(teamlst)"
   ]
  },
  {
   "cell_type": "code",
   "execution_count": null,
   "metadata": {},
   "outputs": [],
   "source": [
    "playersData = re.search(\"playersData\\s+=\\s+JSON.parse\\('([^']+)\", response.text)\n",
    "playersString = bytes(playersData.groups()[0], 'utf-8').decode('unicode_escape')\n",
    "playerObj = json.loads(playersString)\n",
    "players_df = pd.DataFrame(playerObj)"
   ]
  }
 ],
 "metadata": {
  "kernelspec": {
   "display_name": "Python 3",
   "language": "python",
   "name": "python3"
  },
  "language_info": {
   "codemirror_mode": {
    "name": "ipython",
    "version": 3
   },
   "file_extension": ".py",
   "mimetype": "text/x-python",
   "name": "python",
   "nbconvert_exporter": "python",
   "pygments_lexer": "ipython3",
   "version": "3.7.1"
  }
 },
 "nbformat": 4,
 "nbformat_minor": 4
}
